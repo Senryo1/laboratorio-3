{
 "cells": [
  {
   "attachments": {},
   "cell_type": "markdown",
   "metadata": {},
   "source": [
    "! git add .\n",
    "! git commit -m \"Archivos creados\"\n",
    "! git push"
   ]
  },
  {
   "cell_type": "code",
   "execution_count": 55,
   "metadata": {},
   "outputs": [
    {
     "name": "stdout",
     "output_type": "stream",
     "text": [
      "On branch main\n",
      "Your branch is up to date with 'origin/main'.\n",
      "\n",
      "nothing to commit, working tree clean\n"
     ]
    }
   ],
   "source": [
    "! git add .\n",
    "! git commit -m \"3er ejercicio hecho\"\n",
    "! git push"
   ]
  },
  {
   "attachments": {},
   "cell_type": "markdown",
   "metadata": {},
   "source": [
    "Parte 1: Numpy:\n",
    "Para los ejercicios siguiente genere el código que considere\n",
    "para resolver el problema que se le plantea.\n",
    "1) ¿Cuál es el tamaño en bytes de un array de 1000\n",
    "elementos de tipo booleano?"
   ]
  },
  {
   "cell_type": "code",
   "execution_count": 7,
   "metadata": {},
   "outputs": [
    {
     "name": "stdout",
     "output_type": "stream",
     "text": [
      "El tamaño en bytes del array de 1000 elementos de tipo booleano es: 1000\n"
     ]
    }
   ],
   "source": [
    "import numpy as np\n",
    "\n",
    "# Creamos un array de booleanos con 1000 elementos\n",
    "arr = np.random.choice([True, False], size=1000)\n",
    "\n",
    "# Obtenemos el tamaño en bytes del array\n",
    "size = arr.nbytes\n",
    "\n",
    "print(\"El tamaño en bytes del array de 1000 elementos de tipo booleano es:\", size)"
   ]
  },
  {
   "attachments": {},
   "cell_type": "markdown",
   "metadata": {},
   "source": [
    "2) Cree un array cuyos elementos sean los enteros pares en\n",
    "[1,100] y en orden decreciente. Muestre los 10 últimos\n",
    "por pantalla."
   ]
  },
  {
   "cell_type": "code",
   "execution_count": 16,
   "metadata": {},
   "outputs": [
    {
     "name": "stdout",
     "output_type": "stream",
     "text": [
      "[20 18 16 14 12 10  8  6  4  2]\n"
     ]
    }
   ],
   "source": [
    "import numpy as np\n",
    "arr = np.arange(100, 0, -2)\n",
    "ultimos10 = arr[-10:]\n",
    "print(ultimos10)"
   ]
  },
  {
   "attachments": {},
   "cell_type": "markdown",
   "metadata": {},
   "source": [
    "3) Dado el array\n",
    "2 4 5 6\n",
    "0 3 7 4\n",
    "8 8 5 2\n",
    "1 5 6 1\n",
    "Seleccione con una instrucción el subarray de elementos\n",
    "0 3 7 4\n",
    "Después, seleccione el subarray de elementos\n",
    "2 5\n",
    "8 5"
   ]
  },
  {
   "cell_type": "code",
   "execution_count": 54,
   "metadata": {},
   "outputs": [
    {
     "name": "stdout",
     "output_type": "stream",
     "text": [
      "[0 3 7 4]\n",
      "[2 5]\n",
      "[8 5]\n"
     ]
    }
   ],
   "source": [
    "import numpy as np\n",
    "arr = np.array([[2, 4, 5, 6],\n",
    "                [0, 3, 7, 4],\n",
    "                [8, 8, 5, 2],\n",
    "                [1, 5, 6, 1]])\n",
    "print(arr[1])\n",
    "# Creamos una máscara booleana para los números 2, 5 y 8\n",
    "print(arr[[0, 2], [0, 2]])\n",
    "print(arr[[2, 2], [0, 2]])"
   ]
  }
 ],
 "metadata": {
  "kernelspec": {
   "display_name": "Python 3",
   "language": "python",
   "name": "python3"
  },
  "language_info": {
   "codemirror_mode": {
    "name": "ipython",
    "version": 3
   },
   "file_extension": ".py",
   "mimetype": "text/x-python",
   "name": "python",
   "nbconvert_exporter": "python",
   "pygments_lexer": "ipython3",
   "version": "3.9.13"
  },
  "orig_nbformat": 4
 },
 "nbformat": 4,
 "nbformat_minor": 2
}
